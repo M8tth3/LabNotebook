{
 "cells": [
  {
   "cell_type": "markdown",
   "metadata": {},
   "source": [
    "---\n",
    "layout: post\n",
    "hide: True\n",
    "title: Basics of HTML Guide\n",
    "description: An introduction to basic HTML, and resources to learn more.\n",
    "type: ccc\n",
    "permalink: /basics/html\n",
    "author: matthew\n",
    "comments: true\n",
    "---"
   ]
  },
  {
   "cell_type": "raw",
   "metadata": {},
   "source": [
    "{% include nav_basics.html %}\n"
   ]
  },
  {
   "cell_type": "markdown",
   "metadata": {},
   "source": [
    "\n",
    "# How does HTML work?\n",
    "Similar function to Markdown, syntax defines how stuff should be displayed\n",
    "- HTML is based on beginning and closing tags `<tagname>content</tagname>`\n",
    "  - Note the \"/\" on the ending or closing tag of the pair"
   ]
  },
  {
   "cell_type": "markdown",
   "metadata": {},
   "source": [
    "## Compare markdown to html below\n",
    "This below example shows comparison of a [heading](https://www.w3schools.com/html/html_headings.asp) and [paragraph](https://www.w3schools.com/html/html_paragraphs.asp).  Click on links to see many more HTML examples."
   ]
  },
  {
   "cell_type": "code",
   "execution_count": 8,
   "metadata": {},
   "outputs": [
    {
     "data": {
      "text/markdown": [
       "\n",
       "### Markdown: This is a Heading\n",
       "\n",
       "This is a paragraph\n"
      ],
      "text/plain": [
       "<IPython.core.display.Markdown object>"
      ]
     },
     "metadata": {},
     "output_type": "display_data"
    }
   ],
   "source": [
    "%%markdown\n",
    "\n",
    "### Markdown: This is a Heading\n",
    "\n",
    "This is a paragraph\n"
   ]
  },
  {
   "cell_type": "code",
   "execution_count": 9,
   "metadata": {
    "vscode": {
     "languageId": "html"
    }
   },
   "outputs": [
    {
     "data": {
      "text/html": [
       "\n",
       "<h3>HTML: This is a Heading</h3>\n",
       "<p>This is a paragraph.</p>\n"
      ],
      "text/plain": [
       "<IPython.core.display.HTML object>"
      ]
     },
     "metadata": {},
     "output_type": "display_data"
    }
   ],
   "source": [
    "%%html\n",
    "\n",
    "<h3>HTML: This is a Heading</h3>\n",
    "<p>This is a paragraph.</p>"
   ]
  },
  {
   "cell_type": "markdown",
   "metadata": {},
   "source": [
    "# Attributes\n",
    "- Learn about [attributes](https://www.w3schools.com/html/html_attributes.asp) \n",
    "- Tags can have additional info in the form of attributes\n",
    "- Attributes usually come in name/value pairs like: name=\"value\"\n",
    "\n",
    "```html\n",
    "<tagname attribute_name=\"attribute_value\" another_attribute=\"another_value\">inner html text</tagname>\n",
    "```\n",
    "\n",
    "- href example with attribute for web link and inner html to describe link\n",
    "\n",
    "```html\n",
    "<a href=\"https://www.w3schools.com/html/default.asp\">Visit W3Schools HTML Page</a>\n",
    "```"
   ]
  },
  {
   "cell_type": "markdown",
   "metadata": {},
   "source": [
    "## Sample Markdown vs HTML Tags\n",
    "Image Tag - Markdown\n",
    "\n",
    "```md\n",
    "![describe image](link to image)\n",
    "```\n",
    "\n",
    "Image Tag - HTML\n",
    "\n",
    "```html\n",
    "<!-- no content so no end tag, width/height is optional (in pixels) -->\n",
    "<img alt=\"describe image\" src=\"link to image\" width=\"100\" height=\"200\">\n",
    "```\n",
    "\n",
    "Link Tag - Markdown\n",
    "\n",
    "```md\n",
    "[link text](link)\n",
    "```\n",
    "\n",
    "Link Tag - HTML\n",
    "\n",
    "```html\n",
    "<a href=\"link\">link text</a>\n",
    "```\n",
    "\n",
    "Bolded Text - Markdown\n",
    "\n",
    "```md\n",
    "**Bolded Text**\n",
    "```\n",
    "\n",
    "Bolded Text - HTML\n",
    "\n",
    "```md\n",
    "<strong>Bolded Text</strong>\n",
    "```\n",
    "\n",
    "Italic Text - Markdown\n",
    "\n",
    "```md\n",
    "*Italic Text*\n",
    "```\n",
    "\n",
    "Italic Text - HTML\n",
    "\n",
    "```md\n",
    "<i>Italic Text</i>\n",
    "```"
   ]
  },
  {
   "cell_type": "markdown",
   "metadata": {},
   "source": [
    "# More tags (not really in markdown)\n",
    "P tag (just represeants a paragraph/normal text)\n",
    "\n",
    "```html\n",
    "<p>This is a paragraph</p>\n",
    "```\n",
    "\n",
    "Button\n",
    "\n",
    "```html\n",
    "<button>some button text</button>\n",
    "```\n",
    "\n",
    "Div (groups together related content)\n",
    "\n",
    "```html\n",
    "<!-- first information -->\n",
    "<div>\n",
    "    <!-- notice how tags can be put INSIDE eachother -->\n",
    "    <p>This is the first paragarph of section 1</p>\n",
    "    <p>This is the second paragraph of section 1</p>\n",
    "</div>\n",
    "\n",
    "<!-- second information -->\n",
    "<div>\n",
    "    <!-- notice how tags can be put INSIDE eachother -->\n",
    "    <p>This is the first paragarph of section 2</p>\n",
    "    <p>This is the second paragraph of section 2</p>\n",
    "</div>\n",
    "```\n",
    "\n"
   ]
  },
  {
   "cell_type": "markdown",
   "metadata": {},
   "source": [
    "# Resources\n",
    "- https://www.w3schools.com/html/default.asp\n",
    "- I will show a demo of how to find information on this website"
   ]
  },
  {
   "cell_type": "markdown",
   "metadata": {},
   "source": [
    "# HTML Hacks\n",
    "- Below is a wireframe for an HTML element you will create. A wireframe is a rough visual representation of HTML elements on a page and isn't necessarily to scale or have the exact styling that the final HTML will have. Using the syntax above, try to create an HTML snippet that corresponds to the below wireframe.\n",
    "- The \"a tags\" can contain any links that you want\n",
    "\n",
    "![wireframe for html hacks]({{ site.baseurl }}/images/wireframe.png)"
   ]
  },
  {
   "cell_type": "code",
   "execution_count": null,
   "metadata": {},
   "outputs": [],
   "source": [
    "%%html                                          \n",
    "\n",
    "<style>\n",
    "    html{\n",
    "        overflow: hidden;\n",
    "    }\n",
    "    .titleScreen\n",
    "    {\n",
    "        text-align:center;\n",
    "    }\n",
    "    .button {\n",
    "        background-color: transparent;\n",
    "        border: none;\n",
    "        color: white;\n",
    "        text-align: center;\n",
    "        font-family: \"Garamond\", Times, serif;\n",
    "        font-size: 18px;\n",
    "    }\n",
    "    .button:hover{\n",
    "        color: orange;\n",
    "    }\n",
    "    .introMessage\n",
    "    {\n",
    "        font-family: \"Garamond\", Times, serif;\n",
    "        position: relative;\n",
    "        white-space: nowrap;\n",
    "        margin: 0 auto;\n",
    "        font-size: 130%;\n",
    "        overflow: hidden;\n",
    "        border-right: 2px solid;\n",
    "    }\n",
    "    .anim-typewriter{\n",
    "        animation: typewriter 4s steps(44) 1s 1 normal both,\n",
    "            blinkTextCursor 500ms\n",
    "        steps(44) infinite normal;\n",
    "    }\n",
    "    #paragraph\n",
    "    {\n",
    "        display:none;\n",
    "        font-family: \"Garamond\", Times, serif;\n",
    "        text-align: center;\n",
    "    } \n",
    "    #startParagraph\n",
    "    {\n",
    "        display:none;\n",
    "        font-family: \"Garamond\", Times, serif;\n",
    "        text-align: center;\n",
    "    }  \n",
    "    @keyframes typewriter{\n",
    "        from{width: 0;}\n",
    "        to{width: 45em;}\n",
    "    }\n",
    "    @keyframes blinkTextCursor{\n",
    "        from{border-right-color:rba(255,255,255,.75)}\n",
    "        to{border-right-color: transparent;}\n",
    "    }\n",
    "</style>\n",
    "\n",
    "<div >\n",
    "    <p class=\"introMessage anim-typewriter\">\n",
    "        Hi! Welcome to Terminal Souls! Please enjoy the title screen since it is the only thing that is developed right now...\n",
    "    </p>\n",
    "</div>\n",
    "\n",
    "<div class=\"titleScreen\">\n",
    "    <pre>\n",
    "    ████████╗███████╗██████╗ ███╗   ███╗██╗███╗   ██╗ █████╗ ██╗         ███████╗ ██████╗ ██╗   ██╗██╗     ███████╗\n",
    "    ╚══██╔══╝██╔════╝██╔══██╗████╗ ████║██║████╗  ██║██╔══██╗██║         ██╔════╝██╔═══██╗██║   ██║██║     ██╔════╝\n",
    "       ██║   █████╗  ██████╔╝██╔████╔██║██║██╔██╗ ██║███████║██║         ███████╗██║   ██║██║   ██║██║     ███████╗\n",
    "       ██║   ██╔══╝  ██╔══██╗██║╚██╔╝██║██║██║╚██╗██║██╔══██║██║         ╚════██║██║   ██║██║   ██║██║     ╚════██║\n",
    "       ██║   ███████╗██║  ██║██║ ╚═╝ ██║██║██║ ╚████║██║  ██║███████╗    ███████║╚██████╔╝╚██████╔╝███████╗███████║\n",
    "       ╚═╝   ╚══════╝╚═╝  ╚═╝╚═╝     ╚═╝╚═╝╚═╝  ╚═══╝╚═╝  ╚═╝╚══════╝    ╚══════╝ ╚═════╝  ╚═════╝ ╚══════╝╚══════╝\n",
    "    </pre>\n",
    "    <div>\n",
    "        <button class=\"button\" onclick=\"changeParagraph()\">\n",
    "            Start\n",
    "        </button>\n",
    "    </div>\n",
    "    <button class=\"button\" id=\"abtTGame\" onclick=\"showParagraph()\">\n",
    "        About this Nonexistent Game\n",
    "    </button>\n",
    "    \n",
    "    <div id=\"paragraph\">\n",
    "        <p>\n",
    "                This is a recreation of one of my favorite games to play, Dark Souls. A brutally hard game that is extremely fun to play, with over 100 hours invested in this game I am excited to recreate parts of it in this project.\n",
    "            Check out some videos of people having lots of fun with this game:\n",
    "                <a href=\"https://www.youtube.com/watch?v=5SaW0oKTisk&t=52s\">People having jolly good fun with Dark Souls 1</a>\n",
    "            If you are having trouble with the game:\n",
    "                <a href=\"https://www.thegamer.com/dark-souls-tips-beginners/\"> Get Better </a>\n",
    "        </p>\n",
    "    </div>\n",
    "    <div id=\"startParagraph\">\n",
    "        Read the first line. There is nothing else developed because Matthew has procracinated this assignment for too long. \n",
    "    </div>\n",
    "</div>\n",
    "\n",
    "<script>\n",
    "    var div = document.getElementById(\"paragraph\");\n",
    "    function showParagraph()\n",
    "    {\n",
    "        document.getElementById(\"startParagraph\").style.display = \"none\";\n",
    "        document.getElementById(\"paragraph\").style.display = \"block\";\n",
    "    }\n",
    "    function changeParagraph()\n",
    "    {\n",
    "        div.innerHTML = <p>Read the first line. There is nothing else developed because Matthew has procracinated this assignment for too long. </p>\n",
    "        # document.getElementById('paragraph').style.display=\"none\";\n",
    "        # document.getElementById('startParagraph').style.display=\"block\";\n",
    "    }\n",
    "</script>\n"
   ]
  }
 ],
 "metadata": {
  "kernelspec": {
   "display_name": "Python 3",
   "language": "python",
   "name": "python3"
  },
  "language_info": {
   "codemirror_mode": {
    "name": "ipython",
    "version": 3
   },
   "file_extension": ".py",
   "mimetype": "text/x-python",
   "name": "python",
   "nbconvert_exporter": "python",
   "pygments_lexer": "ipython3",
   "version": "3.11.0rc1"
  },
  "orig_nbformat": 4
 },
 "nbformat": 4,
 "nbformat_minor": 2
}
