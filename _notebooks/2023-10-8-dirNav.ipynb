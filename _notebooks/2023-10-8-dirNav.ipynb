{
 "cells": [
  {
   "cell_type": "code",
   "execution_count": 1,
   "metadata": {},
   "outputs": [
    {
     "name": "stdout",
     "output_type": "stream",
     "text": [
      "{'room1': (0, 0), 'room2': (0, 2), 'room3': (0, 3), 'room4': (0, 4), 'room5': (0, 5), 'room6': (0, 6), 'room7': (0, 7), 'room8': (1, 7), 'room9': (2, 7), 'room10': (3, 7), 'room11': (4, 7), 'room12': (5, 7), 'room13': (6, 7), 'room14': (-6, 7), 'room15': (-12, 7), 'room16': (-18, 7)}\n"
     ]
    }
   ],
   "source": [
    "satisfied = False\n",
    "rooms = {\"room1\":(0,0)}\n",
    "roomNum = 1\n",
    "currentXval= 0\n",
    "currentYval = 1\n",
    "while satisfied != True:\n",
    "    direction = input(\"What direction do you want to go in? up/fork\")\n",
    "    if direction == 'up':\n",
    "        numUp = int(input(\"how many rooms up?\"))\n",
    "        for i in range(numUp):\n",
    "            currentYval += 1\n",
    "            roomNum += 1\n",
    "            rooms[f\"room{roomNum}\"] = (currentXval,currentYval)\n",
    "    if direction == 'fork':\n",
    "        numRight = int(input(\"how many to the right?\"))\n",
    "        numLeft = int(input('how many to the left?'))\n",
    "        diverge = currentXval\n",
    "        for i in range(numRight):\n",
    "            currentXval += 1\n",
    "            roomNum += 1\n",
    "            rooms[f\"room{roomNum}\"] = (currentXval,currentYval)\n",
    "        for i in range(numLeft):\n",
    "            diverge -= 1\n",
    "            roomNum += 1\n",
    "            rooms[f\"room{roomNum}\"] = (diverge, currentYval)\n",
    "    yes = input(\"Are you satisfied? respond True/False\")\n",
    "    if yes == \"True\":\n",
    "        satisfied = True\n",
    "print(rooms)\n"
   ]
  }
 ],
 "metadata": {
  "kernelspec": {
   "display_name": "Python 3",
   "language": "python",
   "name": "python3"
  },
  "language_info": {
   "codemirror_mode": {
    "name": "ipython",
    "version": 3
   },
   "file_extension": ".py",
   "mimetype": "text/x-python",
   "name": "python",
   "nbconvert_exporter": "python",
   "pygments_lexer": "ipython3",
   "version": "3.11.0rc1"
  }
 },
 "nbformat": 4,
 "nbformat_minor": 2
}
