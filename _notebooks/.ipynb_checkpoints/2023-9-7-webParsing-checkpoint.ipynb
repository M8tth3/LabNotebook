{
 "cells": [
  {
   "cell_type": "code",
   "execution_count": 8,
   "metadata": {},
   "outputs": [
    {
     "name": "stdout",
     "output_type": "stream",
     "text": [
      "['maybe you need some training Top 10 Gaming Tips and Tricks from the Pros https://www.hp.com/ca-en/shop/offer.aspx?p=top-10-gaming-tips-and-tricks-pro&lang=en-CA', 'maybe you need some training 10 Tips to Become a Better Gamer https://www.drinkhydrant.com/blogs/news/10-tips-to-become-a-better-gamer', 'That was hard to watch Game Tips - Gaming Reviews, News, Tips and More. https://kotaku.com/game-tips', 'That was hard to watch Tech - Gaming - Tips, Tricks and Hacks for Doing Everything Better https://lifehacker.com/tech/gaming', 'maybe you need some training Tips for a Successful Gaming Session https://www.enostech.com/tips-for-a-successful-gaming-session/', 'That was rough Tips for a Successful Gaming Session https://www.enostech.com/tips-for-a-successful-gaming-session/#Pick_The_Right_Console', 'That was rough Tips for a Successful Gaming Session https://www.enostech.com/tips-for-a-successful-gaming-session/#Get_Reliable_Accessories_and_Gear', 'LMAO better luck next time Tips for a Successful Gaming Session https://www.enostech.com/tips-for-a-successful-gaming-session/#Playlist']\n"
     ]
    }
   ],
   "source": [
    "from newspaper import Article\n",
    "import random\n",
    "from googlesearch import search\n",
    "\n",
    "url = []\n",
    "listOfGetGoodTips = []\n",
    "imVerySleepDeprived = ['That was rough, ', 'maybe you need some training, ', 'That was hard to watch, ', 'LMAO better luck next time,', 'Here are some gaming tips, ']\n",
    "\n",
    "query = \"gaming tips\"\n",
    "for j in search(query, tld=\"co.in\", num=8, stop=8, pause=2):\n",
    "    url.append(j)\n",
    "\n",
    "\n",
    "for i in url:\n",
    "    article = Article(i)\n",
    "    article.download()\n",
    "    article.parse()\n",
    "    listOfGetGoodTips.append(random.choice(imVerySleepDeprived) + article.title + ' ' + i)\n",
    "print(listOfGetGoodTips)"
   ]
  }
 ],
 "metadata": {
  "kernelspec": {
   "display_name": "Python 3 (ipykernel)",
   "language": "python",
   "name": "python3"
  },
  "language_info": {
   "codemirror_mode": {
    "name": "ipython",
    "version": 3
   },
   "file_extension": ".py",
   "mimetype": "text/x-python",
   "name": "python",
   "nbconvert_exporter": "python",
   "pygments_lexer": "ipython3",
   "version": "3.10.12"
  }
 },
 "nbformat": 4,
 "nbformat_minor": 2
}
