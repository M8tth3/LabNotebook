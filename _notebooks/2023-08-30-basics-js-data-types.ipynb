{
 "cells": [
  {
   "cell_type": "raw",
   "metadata": {},
   "source": [
    "---\n",
    "title: Javascript Data Types/Lists\n",
    "hide: True\n",
    "description: A Tech Talk on javascript data types and how to use with lists\n",
    "type: ccc\n",
    "permalink: /basics/datatypes\n",
    "author: Rohan Juneja\n",
    "comments: true\n",
    "---"
   ]
  },
  {
   "cell_type": "raw",
   "metadata": {},
   "source": [
    "{% include nav_basics.html %}\n"
   ]
  },
  {
   "cell_type": "markdown",
   "metadata": {},
   "source": [
    "# Hacks\n",
    "Create a JavaScript snippet below with the following requirements:\n",
    "- Create an object representing yourself as a person. The object should have keys for your name, age, current classes, interests, and two more of your choosing\n",
    "- Your object must contain keys whose values are arrays. The arrays can be arrays of strings, numbers, or even other objects if you would like\n",
    "- Print the entire object with console.log after declaring it\n",
    "- Manipulate the arrays within the object and print the entire object with console.log as well as the specific changed key afterwards\n",
    "- Perform mathematical operations on fields in your object such as +, -, /, % etc. and print the results with console.log along with a message contextualizing them\n",
    "- Use typeof to determine the types of at least 3 fields in your object"
   ]
  },
  {
   "cell_type": "code",
   "execution_count": 30,
   "metadata": {},
   "outputs": [
    {
     "data": {
      "text/html": [
       "<div>\n",
       "    <input type=text id=\"nameInput\" placeholder=\"Name\">\n",
       "    <input type=\"text\" id=\"genderInput\" placeholder=\"Gender\">\n",
       "    <input type=\"text\" id=\"ageInput\" placeholder=\"Age\">\n",
       "    <input type=\"text\" id=\"classInput\" placeholder=\"Class\">\n",
       "    <input type=\"text\" id=\"giftInput\" placeholder=\"Starting Gift\">\n",
       "    <button onclick=\"updateChar()\">\n",
       "        Choose attribute\n",
       "    </button>\n",
       "</div>\n",
       "\n",
       "<script>\n",
       "    disable = [\" stumbles easily \", \" no legs \", \" No arms \", \" forgets everything \", \"Allergic to grass\", \"Crippling fear of crochet\"]\n",
       "    var character = {\n",
       "        name: \"\",\n",
       "        gender: \"\",\n",
       "        class: \"\",\n",
       "        StartingGift: \"\",\n",
       "        age: null,\n",
       "        deBuffs:[]\n",
       "    }\n",
       "    \n",
       "    function updateChar()\n",
       "    {\n",
       "        var nameInput = document.getElementById(\"nameInput\").value;\n",
       "        var genderInput = document.getElementById(\"genderInput\").value;\n",
       "        var ageInput = document.getElementById(\"ageInput\").value;\n",
       "        var classInput = document.getElementById(\"classInput\").value;\n",
       "        var giftInput = document.getElementById(\"giftInput\").value;\n",
       "        character.name = nameInput;\n",
       "        character.gender = genderInput;\n",
       "        character.age = ageInput; \n",
       "        character.class = classInput;\n",
       "        character.StartingGift = giftInput\n",
       "        console.log(\"Here is your character!:\")\n",
       "        console.log(character);\n",
       "        \n",
       "        if (character.age < 30)\n",
       "        {\n",
       "            console.log(\"new adventurer?\");\n",
       "            console.log(\"I'd say you've got about \" + (40 - character.age) + \" years until you can survive out there alone.\")\n",
       "        }\n",
       "        else\n",
       "        {\n",
       "            console.log(\"an experienced adventurer? Your looks have aged like fine wine. You don't look a day over \" + (character.age - 2) + \"!\")\n",
       "        }\n",
       "        \n",
       "    }\n",
       "    for (let i = 0; i < 2; i++){\n",
       "        character.deBuffs.push(disable[(Math.floor(Math.random() * disable.length))])\n",
       "    }\n",
       "    console.log(\"character gets a fun list of random deBuffs: \" + character.deBuffs)\n",
       "    console.log(\"lets check out the parts of the object\")\n",
       "    console.log(\"the age attribute is an \" + typeof(character.age))\n",
       "    console.log(\"The debuff properties are contained in an\" + typeof(character.deBuffs))\n",
       "    console.log(\"Your name is a \" + typeof(character.name))\n",
       "</script>\n"
      ],
      "text/plain": [
       "<IPython.core.display.HTML object>"
      ]
     },
     "metadata": {},
     "output_type": "display_data"
    }
   ],
   "source": [
    "%%html\n",
    "<div>\n",
    "    <input type=text id=\"nameInput\" placeholder=\"Name\">\n",
    "    <input type=\"text\" id=\"genderInput\" placeholder=\"Gender\">\n",
    "    <input type=\"text\" id=\"ageInput\" placeholder=\"Age\">\n",
    "    <input type=\"text\" id=\"classInput\" placeholder=\"Class\">\n",
    "    <input type=\"text\" id=\"giftInput\" placeholder=\"Starting Gift\">\n",
    "    <button onclick=\"updateChar()\">\n",
    "        Choose attribute\n",
    "    </button>\n",
    "</div>\n",
    "\n",
    "<script>\n",
    "    disable = [\" stumbles easily \", \" no legs \", \" No arms \", \" forgets everything \", \"Allergic to grass\", \"Crippling fear of crochet\"]\n",
    "    var character = {\n",
    "        name: \"\",\n",
    "        gender: \"\",\n",
    "        class: \"\",\n",
    "        StartingGift: \"\",\n",
    "        age: null,\n",
    "        deBuffs: []\n",
    "    }\n",
    "    \n",
    "    function updateChar()\n",
    "    {\n",
    "        var nameInput = document.getElementById(\"nameInput\").value;\n",
    "        var genderInput = document.getElementById(\"genderInput\").value;\n",
    "        var ageInput = document.getElementById(\"ageInput\").value;\n",
    "        var classInput = document.getElementById(\"classInput\").value;\n",
    "        var giftInput = document.getElementById(\"giftInput\").value;\n",
    "        character.name = nameInput;\n",
    "        character.gender = genderInput;\n",
    "        character.age = ageInput; \n",
    "        character.class = classInput;\n",
    "        character.StartingGift = giftInput\n",
    "        console.log(\"Here is your character!:\")\n",
    "        console.log(character);\n",
    "        \n",
    "        if (character.age < 30)\n",
    "        {\n",
    "            console.log(\"new adventurer?\");\n",
    "            console.log(\"I'd say you've got about \" + (40 - character.age) + \" years until you can survive out there alone.\")\n",
    "        }\n",
    "        else\n",
    "        {\n",
    "            console.log(\"an experienced adventurer? Your looks have aged like fine wine. You don't look a day over \" + (character.age - 2) + \"!\")\n",
    "        }\n",
    "        \n",
    "    }\n",
    "    for (let i = 0; i < 2; i++){\n",
    "        character.deBuffs.push(disable[(Math.floor(Math.random() * disable.length))])\n",
    "    }\n",
    "    console.log(\"character gets a fun list of random deBuffs: \" + character.deBuffs)\n",
    "    console.log(\"lets check out the parts of the object\")\n",
    "    console.log(\"the age attribute is an \" + typeof(character.age))\n",
    "    console.log(\"The debuff properties are contained in an \" + typeof(character.deBuffs))\n",
    "    console.log(\"Your name is a \" + typeof(character.name))\n",
    "</script>"
   ]
  }
 ],
 "metadata": {
  "kernelspec": {
   "display_name": "Python 3 (ipykernel)",
   "language": "python",
   "name": "python3"
  },
  "language_info": {
   "codemirror_mode": {
    "name": "ipython",
    "version": 3
   },
   "file_extension": ".py",
   "mimetype": "text/x-python",
   "name": "python",
   "nbconvert_exporter": "python",
   "pygments_lexer": "ipython3",
   "version": "3.11.0"
  }
 },
 "nbformat": 4,
 "nbformat_minor": 4
}
