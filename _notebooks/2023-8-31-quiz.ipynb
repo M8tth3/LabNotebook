{
 "cells": [
  {
   "cell_type": "markdown",
   "metadata": {},
   "source": [
    "---\n",
    "toc: true\n",
    "comments: true\n",
    "layout: post\n",
    "title: quiz\n",
    "description: PLEASE WORK GOD\n",
    "type: tangibles\n",
    "courses: { compsci: {week: 2} }\n",
    "---"
   ]
  },
  {
   "cell_type": "markdown",
   "metadata": {},
   "source": [
    "## Python Code is Much Friendlier than HTML \n",
    "> After modifying some jupyter notebook files and working with python more, it is very clear that python doesn't want to make me claw my eyes out just by looking at the code. On a more informational note, there were a few things I noticed that there were some improvements that could be made. The most obvious was the repetition during the \"check if correct\" phase of the code. Lots of repetition in code, especially in large blocks can make the code messy and less efficient to work with. "
   ]
  },
  {
   "cell_type": "code",
   "execution_count": null,
   "metadata": {},
   "outputs": [],
   "source": [
    "# Notice the number of lines written each time the response has to be compared with the answer\n",
    "\n",
    "if rsp == \"import\":\n",
    "    print(rsp + \" is correct!\")\n",
    "    correct += 1\n",
    "else:\n",
    "    print(rsp + \" is incorrect!\")\n",
    "\n",
    "rsp = question_with_response(\"What command is used to evaluate correct or incorrect response in this example?\")\n",
    "if rsp == \"if\":\n",
    "    print(rsp + \" is correct!\")\n",
    "    correct += 1\n",
    "else:\n",
    "    print(rsp + \" is incorrect!\")\n",
    "\n",
    "rsp = question_with_response(\"Each 'if' command contains an '_________' to determine a true or false condition?\")\n",
    "if rsp == \"expression\":\n",
    "    print(rsp + \" is correct!\")\n",
    "    correct += 1\n",
    "else:\n",
    "    print(rsp + \" is incorrect!\")"
   ]
  },
  {
   "cell_type": "markdown",
   "metadata": {},
   "source": [
    "## Cleaning Up\n",
    "> Generally when we see repetition in code we can make use of [functions](https://en.wikipedia.org/wiki/Function#:~:text=Function%20(computer%20programming)%2C%20or,within%20a%20larger%20computer%20program). In this function you can get it to compare the users responses and "
   ]
  },
  {
   "cell_type": "code",
   "execution_count": null,
   "metadata": {},
   "outputs": [],
   "source": [
    "import getpass, sys\n",
    "\n",
    "\n",
    "def question_with_response(prompt):\n",
    "    print(\"Question: \" + prompt)\n",
    "    msg = input()\n",
    "    return msg\n",
    "\n",
    "global numRight\n",
    "numRight=0\n",
    "questions = 3\n",
    "\n",
    "\n",
    "def isCorrect(correct, response):\n",
    "    global numRight\n",
    "    if response == correct:\n",
    "        print(response + \" is correct!\")\n",
    "        numRight += 1\n",
    "        return numRight\n",
    "    else:\n",
    "        print(response + \" is incorrect!\")\n",
    "    \n",
    "\n",
    "\n",
    "print('Hello, ' + getpass.getuser() + \" running \" + sys.executable)\n",
    "print(\"You will be asked \" + str(questions) + \" questions.\")\n",
    "question_with_response(\"Are you ready to take a test?\")\n",
    "\n",
    "rsp = question_with_response(\"What command is used to include other functions that were previously developed?\")\n",
    "isCorrect(\"import\", rsp)\n",
    "\n",
    "rsp = question_with_response(\"What command is used to evaluate correct or incorrect response in this example?\")\n",
    "isCorrect(\"if\", rsp)\n",
    "\n",
    "rsp = question_with_response(\"Each 'if' command contains an '_________' to determine a true or false condition?\")\n",
    "isCorrect(\"expression\",rsp)\n",
    "\n",
    "print(getpass.getuser() + \" you scored \" + str(numRight) +\"/\" + str(questions))"
   ]
  }
 ],
 "metadata": {
  "kernelspec": {
   "display_name": "Python 3 (ipykernel)",
   "language": "python",
   "name": "python3"
  },
  "language_info": {
   "codemirror_mode": {
    "name": "ipython",
    "version": 3
   },
   "file_extension": ".py",
   "mimetype": "text/x-python",
   "name": "python",
   "nbconvert_exporter": "python",
   "pygments_lexer": "ipython3",
   "version": "3.10.12"
  }
 },
 "nbformat": 4,
 "nbformat_minor": 2
}
